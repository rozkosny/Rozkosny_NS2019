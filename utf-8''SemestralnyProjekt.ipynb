{
  "cells": [
    {
      "metadata": {
        "trusted": true
      },
      "cell_type": "code",
      "source": "#importovanie kniznice numpy\nimport numpy as np\n\n#importovanie kniznice matplotlib\nimport matplotlib.pyplot as plt\n\n#importovanie kniznice Pandas\nimport pandas as pd\n\n\n#nacitanie datasetu\ncsv = pd.read_csv('diamonds.csv')\n\n#_______________________________________________________________trenovacie data\n#info o diamantoch x, y, z\nX = csv.iloc[0:10, [8, 9, 10]].values  #matica 3 x pocet riadkov\n\n#pocet karatov\ny = csv.iloc[0:10, [1]].values\n\n#________________________________________________________________\n\n#______________________testovacie data pre odhad karatov\nxPredicted = csv.iloc[0:10, [8, 9, 10]].values\n#_______________________________________________________\n \n\nclass Neural_Network(object):\n    def __init__(self):\n      #nastavenie poctu vstupov, vystupov a skrytych vrstiev\n        self.inputSize = 3\n        self.outputSize = 1\n        self.hiddenSize = 4\n\n      #inicializacia vah nahodnymi cislami\n        \n        self.W1 = np.random.randn(self.inputSize, self.hiddenSize) # (4stlpce x 3riadky) váha matíc z počtu skrytých vrstiev a počtu vstupov \n        self.W2 = np.random.randn(self.hiddenSize, self.outputSize) # (4x1) váha matíc z počtu skrytých vrstiev a počtu výstupov \n        print(\"______________________________________________________________________________\")\n        print(\"Hodnoty vah na zaciatku W1 (umiestnene pred skrytou vrstvou)\")\n        print(self.W1)\n        print(\"Hodnoty vah na zaciatku W2 (umiestnene za skrytou vrstvou, pred vystupom)\")\n        print(self.W2)\n        print(\"______________________________________________________________________________\")\n    def forward(self, X):   # prechadzanie neuronovou sietou smerom dopredu\n\n        self.z = np.dot(X, self.W1) # dot produkt(vynasobenie matic) z X (vstup x pocet riadkov) a prvý set váh 4x3\n        self.z2 = self.sigmoid(self.z) # aktivačná funkcia z predosleho vysledku -> umiestni vstup medzi 0..1\n\n        self.z3 = np.dot(self.z2, self.W2) # dot produkt(vynasobenie matic) zo skrytej vrstvy (z2) a vah W2 -- 3x1 \n        o = self.sigmoid(self.z3) # finalna aktivacna funkcia z predosleho vysledku -> umiestni vstup medzi 0..1\n\n        o = np.round(o, 3) # zaokruhlenie na tri desatinne miesta\n        return o\n\n    # aktivacna funkcia sigmoid\n    def sigmoid(self, s):\n        return 1/(1+np.exp(-s))\n\n    #derivácia sigmoid\n    def sigmoidPrime(self, s):\n        return s * (1 - s)\n    \n    def backward(self, X, y, o):  # metoda ktora nam upravuje vahy tak aby smerovali k spravnemu predikovaniu\n       \n        self.o_error = y - o # chybovost -> hodnoty ktore ma odhadnut odcitame od tych ktore zatial odhadol  \n        self.o_delta = self.o_error*self.sigmoidPrime(o) # ziskame hodnoty o kolko je potrebne upravit druhe vahy W2\n\n        self.z2_error = self.o_delta.dot(self.W2.T)    # zistime ako vela prispeli W2 k chybe\n        self.z2_delta = self.z2_error*self.sigmoidPrime(self.z2) # ziskame hodnoty o kolko je potrebne upravit prve vahy W1\n\n        self.W1 += X.T.dot(self.z2_delta) #uprava prvych vah\n        self.W2 += self.z2.T.dot(self.o_delta) #uprava druhych vah\n\n    def train(self, X, y):\n        o = self.forward(X)   #odhadne hodnoty\n        self.backward(X, y, o)  #upravuje vahy teda uci sa\n\n\n\n    def predict(self):\n        print(\"Odhadované dáta na základe trénovaných váh: \");\n      #  print(\"Input (scaled): \\n\" + str(xPredicted));\n        print(\"Výstup(po naučení): \\n\" + str(self.forward(xPredicted)));\n        print(\"Malo byť (originálne dáta) \\n\" + str(y))\n\n\nNN = Neural_Network()\n\nerrors = []\nfor i in range(50): # trenovanie nasej neuronovej siete\n    NN.train(X, y)\n    errors.append(NN.o_error[0])  # pridavame si do pola aka bola chybovost v danej iteracii\n\nprint(\"______________________________________________________________________________\")\nprint(\"Hodnoty vah na konci W1 (umiestnene pred skrytou vrstvou)\")\nprint(NN.W1)\nprint(\"Hodnoty vah na konci W2 (umiestnene za skrytou vrstvou, pred vystupom)\")\nprint(NN.W2)\nprint(\"______________________________________________________________________________\")\nNN.predict()\nplt.plot(errors)\nprint(\"______________________________________________________________________________\")\nprint(\"originalne data - odhad ---> Pocas ucenia\")\nplt.show()\n",
      "execution_count": 9,
      "outputs": [
        {
          "output_type": "stream",
          "text": "______________________________________________________________________________\nHodnoty vah na zaciatku W1 (umiestnene pred skrytou vrstvou)\n[[-1.09428836 -0.55979989 -1.15218559  1.29673428]\n [ 0.47577083  0.22371179  0.0997644  -1.33103333]\n [-0.01352104  0.57062361  0.49009115 -0.95925789]]\nHodnoty vah na zaciatku W2 (umiestnene za skrytou vrstvou, pred vystupom)\n[[-2.15704297]\n [ 0.64232479]\n [ 0.54457129]\n [ 0.52815667]]\n______________________________________________________________________________\n______________________________________________________________________________\nHodnoty vah na konci W1 (umiestnene pred skrytou vrstvou)\n[[-0.73027461 -1.05530292 -1.22001298  1.18096429]\n [ 0.82016514 -0.27257099  0.03260996 -1.4461455 ]\n [ 0.17233779  0.26609596  0.44944207 -1.02909798]]\nHodnoty vah na konci W2 (umiestnene za skrytou vrstvou, pred vystupom)\n[[-1.70172838]\n [ 0.24493456]\n [ 0.50969467]\n [ 0.46612857]]\n______________________________________________________________________________\nOdhadované dáta na základe trénovaných váh: \nVýstup(po naučení): \n[[0.241]\n [0.248]\n [0.243]\n [0.237]\n [0.235]\n [0.241]\n [0.241]\n [0.238]\n [0.249]\n [0.24 ]]\nMalo byť (originálne dáta) \n[[0.23]\n [0.21]\n [0.23]\n [0.29]\n [0.31]\n [0.24]\n [0.24]\n [0.26]\n [0.22]\n [0.23]]\n______________________________________________________________________________\noriginalne data - odhad ---> Pocas ucenia\n",
          "name": "stdout"
        },
        {
          "output_type": "display_data",
          "data": {
            "image/png": "[encoded data removed]",
            "text/plain": "<Figure size 432x288 with 1 Axes>"
          },
          "metadata": {
            "needs_background": "light"
          }
        }
      ]
    },
    {
      "metadata": {
        "trusted": true
      },
      "cell_type": "code",
      "source": "",
      "execution_count": null,
      "outputs": []
    },
    {
      "metadata": {
        "trusted": true
      },
      "cell_type": "code",
      "source": "\n",
      "execution_count": null,
      "outputs": []
    },
    {
      "metadata": {
        "trusted": true
      },
      "cell_type": "code",
      "source": "",
      "execution_count": null,
      "outputs": []
    },
    {
      "metadata": {
        "trusted": true
      },
      "cell_type": "code",
      "source": "",
      "execution_count": null,
      "outputs": []
    },
    {
      "metadata": {
        "trusted": true
      },
      "cell_type": "code",
      "source": "",
      "execution_count": null,
      "outputs": []
    },
    {
      "metadata": {
        "trusted": true
      },
      "cell_type": "code",
      "source": "",
      "execution_count": null,
      "outputs": []
    },
    {
      "metadata": {
        "trusted": true
      },
      "cell_type": "code",
      "source": "",
      "execution_count": null,
      "outputs": []
    },
    {
      "metadata": {
        "trusted": true
      },
      "cell_type": "code",
      "source": "",
      "execution_count": null,
      "outputs": []
    },
    {
      "metadata": {
        "trusted": true
      },
      "cell_type": "code",
      "source": "",
      "execution_count": null,
      "outputs": []
    },
    {
      "metadata": {
        "trusted": true
      },
      "cell_type": "code",
      "source": "",
      "execution_count": null,
      "outputs": []
    },
    {
      "metadata": {
        "trusted": true
      },
      "cell_type": "code",
      "source": "",
      "execution_count": null,
      "outputs": []
    },
    {
      "metadata": {
        "trusted": true
      },
      "cell_type": "code",
      "source": "",
      "execution_count": null,
      "outputs": []
    },
    {
      "metadata": {
        "trusted": true
      },
      "cell_type": "code",
      "source": "",
      "execution_count": null,
      "outputs": []
    }
  ],
  "metadata": {
    "kernelspec": {
      "name": "python36",
      "display_name": "Python 3.6",
      "language": "python"
    },
    "language_info": {
      "mimetype": "text/x-python",
      "nbconvert_exporter": "python",
      "name": "python",
      "pygments_lexer": "ipython3",
      "version": "3.6.6",
      "file_extension": ".py",
      "codemirror_mode": {
        "version": 3,
        "name": "ipython"
      }
    }
  },
  "nbformat": 4,
  "nbformat_minor": 2
}